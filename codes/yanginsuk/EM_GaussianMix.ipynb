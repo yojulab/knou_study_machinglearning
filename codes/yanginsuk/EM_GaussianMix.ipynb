{
  "nbformat": 4,
  "nbformat_minor": 0,
  "metadata": {
    "colab": {
      "name": "EM_GaussianMix.ipynb",
      "provenance": [],
      "collapsed_sections": [],
      "authorship_tag": "ABX9TyNIDBePiRzI0rATzP0KXGsM",
      "include_colab_link": true
    },
    "kernelspec": {
      "name": "python3",
      "display_name": "Python 3"
    },
    "language_info": {
      "name": "python"
    }
  },
  "cells": [
    {
      "cell_type": "markdown",
      "metadata": {
        "id": "view-in-github",
        "colab_type": "text"
      },
      "source": [
        "<a href=\"https://colab.research.google.com/github/SanghunOh/study_machinglearning/blob/main/code/yanginsuk/EM_GaussianMix.ipynb\" target=\"_parent\"><img src=\"https://colab.research.google.com/assets/colab-badge.svg\" alt=\"Open In Colab\"/></a>"
      ]
    },
    {
      "cell_type": "code",
      "execution_count": 69,
      "metadata": {
        "colab": {
          "base_uri": "https://localhost:8080/"
        },
        "id": "a_3PdN0qJrPB",
        "outputId": "022ff752-026b-410d-d8b3-e2550392b993"
      },
      "outputs": [
        {
          "output_type": "stream",
          "name": "stdout",
          "text": [
            "Mounted at /content/gdrive\n"
          ]
        }
      ],
      "source": [
        "# 구글 드라이브 마운트\n",
        "from google.colab import drive\n",
        "drive.mount('/content/gdrive',force_remount=True)"
      ]
    },
    {
      "cell_type": "code",
      "source": [
        "import scipy.io\n",
        "mat = scipy.io.loadmat('/content/gdrive/My Drive/MyColab/Data/data10_2.mat')"
      ],
      "metadata": {
        "id": "YyA4tC84J4Rv"
      },
      "execution_count": 70,
      "outputs": []
    },
    {
      "cell_type": "code",
      "source": [
        "X=mat.get('data')\n",
        "X=X.T\n"
      ],
      "metadata": {
        "id": "jbv51hvzLdUf"
      },
      "execution_count": 71,
      "outputs": []
    },
    {
      "cell_type": "code",
      "source": [
        "import numpy.matlib\n",
        "import math\n",
        "\n",
        "def gausspdf(X, mu, sigma):\n",
        "  #n=size(X,1);                            % 입력 벡터의 차원\n",
        "  n=X[0,:].size\n",
        "  #N=size(X,2);                            % 데이터의 수\n",
        "  N=X[1,:].size\n",
        "  #Mu=repmat(mu',1,N);                     % 행렬 연산을 위한 준비\n",
        "  mu = mu.reshape(2,1)\n",
        "  Mu = np.matlib.repmat(mu, 1, N)\n",
        "  #% 확률 밀도값 계산\n",
        "  #out = (1/((sqrt(2*pi))^n*sqrt(det(sigma))))*exp(-diag((X-Mu)'*inv(sigma)*(X-Mu))/2);\n",
        "  XX= X-Mu\n",
        "  YY = np.linalg.inv(sigma)\n",
        "  ZZ = YY.dot(XX)\n",
        "  return (1/(pow(math.sqrt(2*math.pi),n)*math.sqrt(np.linalg.det(sigma))))*np.exp(-np.diag((XX.T).dot(ZZ))/2)\n",
        "  \n",
        "  #XX= X-Mu\n",
        "  #YY = np.linalg.inv(sigma)\n",
        "  #ZZ = XX.dot(YY)\n",
        "  #return (1/(pow(math.sqrt(2*math.pi),n)*math.sqrt(np.linalg.det(sigma))))*np.exp(-np.diag(ZZ.dot(XX.T))/2)\n",
        "  #return (1/(pow(math.sqrt(2*math.pi),n)*math.sqrt(np.linalg.det(Sigma))))*np.exp(-np.diag((X-Mu)*np.linalg.inv(sigma)*(X-Mu))/2)\n",
        "  #return (1/ np.sqrt(2*np.pi * sigma**2))*np.exp(- (X-mu)**2/(2*sigma**2))"
      ],
      "metadata": {
        "id": "SxIIM7k4qkP_"
      },
      "execution_count": 78,
      "outputs": []
    },
    {
      "cell_type": "code",
      "source": [
        "import matplotlib.pyplot as plt\n",
        "import tensorflow as tf\n",
        "\n",
        "def drawgraph(X, Mu, Sigma, cnt):\n",
        "  M=Mu[:,1].size\n",
        "  print(\"Mu=\",Mu)\n",
        "  plt.figure(num=cnt)\n",
        "  plt.plot(X[0,:], X[1,:], marker='*', linestyle='None')\n",
        "  plt.axis([-0.5, 5.5, -0.5, 3.5])\n",
        "  plt.plot(Mu[:,0], Mu[:,1], marker='o', linestyle='None')\n",
        "  print(\"M=\",M)\n",
        "  for j in range(M):\n",
        "    print(\"j=\",j)\n",
        "    sigma = np.asarray(np.reshape(Sigma[j,:,:],(2,2)))\n",
        "    print(\"sigma=\",sigma)\n",
        "    t=np.arange(-math.pi,math.pi,0.1)\n",
        "    #A=math.sqrt(2)*[math.cos(t), math.sin(t)]*scipy.linalg.sqrtm(sigma)+ np.matlib.repmat(Mu[j-1,:],t.size,1)\n",
        "    A=math.sqrt(2)*np.asarray([np.cos(t), np.sin(t)]).T.dot(scipy.linalg.sqrtm(sigma))+ np.matlib.repmat(Mu[j,:],t.size,1)\n",
        "    plt.plot(A[:,0], A[:,1], marker='^', linestyle='None')\n",
        "  plt.show()\n",
        "  #figure(cnt);                            % 데이터 그리기\n",
        "  #plot(X(1,:), X(2,:), '*'); hold on\n",
        "  #axis([-0.5 5.5 -0.5 3.5]); grid on\n",
        "  #plot(Mu(:,1), Mu(:,2), 'r*');            % 평균 파라미터 그리기\n",
        "  #for j=1:M\n",
        "  #  sigma = reshape(Sigma(j,:,:),2,2);  % 공분산에 따른 타원 그리기\n",
        "  #  t=[-pi:0.1:pi]';\n",
        "  #  A=sqrt(2)*[cos(t) sin(t)]*sqrtm(sigma)+repmat(Mu(j,:), size(t),1);\n",
        "  #  plot(A(:,1), A(:,2), 'r-', 'linewidth', 2);\n",
        "  #endfor"
      ],
      "metadata": {
        "id": "Oj_PQXgUyfkA"
      },
      "execution_count": 79,
      "outputs": []
    },
    {
      "cell_type": "code",
      "source": [
        "import numpy as np\n",
        "import tensorflow as tf\n",
        "type(X.size)\n",
        "type(int(X.shape[0]))\n",
        "N=int(X.shape[0])         # 데이터의 수\n",
        "M=6;                      # 가우시안 성분의 수\n",
        "Mu=np.random.rand(M, 2)*5\n",
        "\n",
        "np_arr = np.array([[[1,0],[0,1]],[[1,0],[0,1]],[[1,0],[0,1]],[[1,0],[0,1]],[[1,0],[0,1]],[[1,0],[0,1]]])\n",
        "Sigma = np_arr\n",
        "\n",
        "drawgraph(X,Mu, Sigma,1);                   # 그래프 그리기 함수 호출"
      ],
      "metadata": {
        "colab": {
          "base_uri": "https://localhost:8080/",
          "height": 723
        },
        "id": "DmHEbk0tMDv_",
        "outputId": "c7818256-4721-46ce-a21e-fda939d9e884"
      },
      "execution_count": 162,
      "outputs": [
        {
          "output_type": "stream",
          "name": "stdout",
          "text": [
            "Mu= [[2.84958969 2.15279455]\n",
            " [3.46365926 0.30560004]\n",
            " [0.29760253 1.55334889]\n",
            " [3.09318485 3.36880238]\n",
            " [0.66507841 0.17189433]\n",
            " [2.94014679 2.1145082 ]]\n",
            "M= 6\n",
            "j= 0\n",
            "sigma= [[1 0]\n",
            " [0 1]]\n",
            "j= 1\n",
            "sigma= [[1 0]\n",
            " [0 1]]\n",
            "j= 2\n",
            "sigma= [[1 0]\n",
            " [0 1]]\n",
            "j= 3\n",
            "sigma= [[1 0]\n",
            " [0 1]]\n",
            "j= 4\n",
            "sigma= [[1 0]\n",
            " [0 1]]\n",
            "j= 5\n",
            "sigma= [[1 0]\n",
            " [0 1]]\n"
          ]
        },
        {
          "output_type": "display_data",
          "data": {
            "text/plain": [
              "<Figure size 432x288 with 1 Axes>"
            ],
            "image/png": "[encoded data removed]"
          },
          "metadata": {
            "needs_background": "light"
          }
        }
      ]
    },
    {
      "cell_type": "code",
      "source": [
        "Maxtau=100;                                 # 최대 반복횟수 설정\n",
        "\n",
        "alpha=np.zeros((6,1))+1/6;                  # 파라미터의 초기화(혼합계수)\n",
        "px=np.zeros((6,400))\n",
        "r=np.zeros((400,6))\n",
        "#r=np.zeros((6,400))\n",
        "L = np.zeros(Maxtau)\n",
        "\n",
        "K=Mu[0,:]\n",
        "K\n",
        "for tau in range(Maxtau):\n",
        "  ##E-Step\n",
        "  for j in range(M):                        # p 계산\n",
        "    \n",
        "    px[j,:]=gausspdf(X, Mu[j,:], np.reshape(Sigma[j,:,:],(2,2)))\n",
        "  \n",
        "  sump=(px.T).dot(alpha)                      #a,p 계산\n",
        "  for j in range(M):                        # p 계산\n",
        "    K = (alpha[j]*px[j,:]).T/sump;\n",
        "    r[:,j] = K[j,:]\n",
        "  #ww = np.log(sump)\n",
        "  L[tau]=sum(np.log(sump))\n",
        "  ##M-step\n",
        "  for j in range(M): \n",
        "    sumr=sum(r[:,j])\n",
        "    Rj= (np.matlib.repmat(r[:,j],2,1))\n",
        "    #KK=sum((Rj*X))\n",
        "    KK1=np.sum(Rj*X, axis=1)/sumr\n",
        "    #Mu[j,:]=KK1\n",
        "    #KK1=(Rj[0]*X[0]).mean()\n",
        "    #KK2=(Rj[1]*X[1]).mean()\n",
        "    #KK= sum(Rj*X,2)/sumr\n",
        "    #Mu[j,:]= sum(Rj*X,2)/sumr\n",
        "    Mu[j,0]=KK1[0]\n",
        "    Mu[j,1]=KK1[1]\n",
        "    #Mu[j,1]=KK[1]\n",
        "    #KK,Mu\n",
        "    #Mu[j]=sum(RJ.dot(X),2)/sumr        #   % 새로운 평균\n",
        "    #Rj=repmat(r(:,j),1,2)';             % 행렬 계산을 위한 준비\n",
        "    #Mu(j,:)=sum(Rj.*X,2)/sumr           % 새로운 평균\n",
        "\n"
      ],
      "metadata": {
        "id": "5WzxOXbLtZNT",
        "colab": {
          "base_uri": "https://localhost:8080/"
        },
        "outputId": "954debf5-e517-449f-d07d-cdb23b17b45b"
      },
      "execution_count": 163,
      "outputs": [
        {
          "output_type": "execute_result",
          "data": {
            "text/plain": [
              "(92.85500706618154,\n",
              " array([[1.65392650e-02, 1.12127309e-02, 3.24974612e-01, 9.97192618e-03,\n",
              "         3.83778713e-01, 1.06888195e-02],\n",
              "        [4.42300532e-03, 2.99855938e-03, 5.07154029e-01, 2.66673776e-03,\n",
              "         5.98923465e-01, 2.85845262e-03],\n",
              "        [1.05476781e-03, 7.15075767e-04, 4.98531776e-01, 6.35945234e-04,\n",
              "         5.88741016e-01, 6.81664074e-04],\n",
              "        ...,\n",
              "        [7.37448436e-01, 4.99950320e-01, 8.75241309e-04, 4.44625644e-01,\n",
              "         1.03361608e-03, 4.76590297e-01],\n",
              "        [7.45969534e-01, 5.05727165e-01, 1.17794227e-03, 4.49763221e-01,\n",
              "         1.39109072e-03, 4.82097221e-01],\n",
              "        [8.45448096e-01, 5.73168272e-01, 2.51509559e-03, 5.09741272e-01,\n",
              "         2.97020171e-03, 5.46387163e-01]]),\n",
              " array([[4.19846177, 1.50734681],\n",
              "        [4.19846177, 1.50734681],\n",
              "        [1.20237944, 1.45513728],\n",
              "        [4.19846177, 1.50734681],\n",
              "        [1.20237944, 1.45513728],\n",
              "        [4.19846177, 1.50734681]]),\n",
              " array([4.19846177, 1.50734681]))"
            ]
          },
          "metadata": {},
          "execution_count": 163
        }
      ]
    },
    {
      "cell_type": "code",
      "source": [
        "n=X[:,0].size\n",
        "N=X[:,1].size\n",
        "Mu = np.matlib.repmat(Mu.T, 1, N)\n",
        "\n",
        "#% 확률 밀도값 계산\n",
        "sigma = np.reshape(Sigma[j,:,:],(2,2))\n",
        "\n",
        "Mu\n",
        "#K = 1/(pow(math.sqrt(2*math.pi),n)*math.sqrt(np.linalg.det(sigma)))*np.exp(-np.diag((X-Mu)*np.linalg.inv(sigma)*(X-Mu))/2)\n",
        "#K=(X-Mu)*np.linalg.inv(sigma)*(X-Mu)\n",
        "#K\n",
        "#K = (1/(pow(math.sqrt(2*math.pi),n)*math.sqrt(np.linalg.det(Sigma))))*np.exp(-np.diag((X-Mu)*np.linalg.inv(sigma)*(X-Mu))/2)"
      ],
      "metadata": {
        "id": "86nDlZdCCKzY",
        "colab": {
          "base_uri": "https://localhost:8080/",
          "height": 245
        },
        "outputId": "104cc9fd-9709-4e75-9daf-85dbd05edc09"
      },
      "execution_count": null,
      "outputs": [
        {
          "output_type": "error",
          "ename": "ValueError",
          "evalue": "ignored",
          "traceback": [
            "\u001b[0;31m---------------------------------------------------------------------------\u001b[0m",
            "\u001b[0;31mValueError\u001b[0m                                Traceback (most recent call last)",
            "\u001b[0;32m<ipython-input-41-f22010032520>\u001b[0m in \u001b[0;36m<module>\u001b[0;34m()\u001b[0m\n\u001b[1;32m      5\u001b[0m \u001b[0msigma\u001b[0m \u001b[0;34m=\u001b[0m \u001b[0mnp\u001b[0m\u001b[0;34m.\u001b[0m\u001b[0mreshape\u001b[0m\u001b[0;34m(\u001b[0m\u001b[0mSigma\u001b[0m\u001b[0;34m[\u001b[0m\u001b[0mj\u001b[0m\u001b[0;34m,\u001b[0m\u001b[0;34m:\u001b[0m\u001b[0;34m,\u001b[0m\u001b[0;34m:\u001b[0m\u001b[0;34m]\u001b[0m\u001b[0;34m,\u001b[0m\u001b[0;34m(\u001b[0m\u001b[0;36m2\u001b[0m\u001b[0;34m,\u001b[0m\u001b[0;36m2\u001b[0m\u001b[0;34m)\u001b[0m\u001b[0;34m)\u001b[0m\u001b[0;34m\u001b[0m\u001b[0;34m\u001b[0m\u001b[0m\n\u001b[1;32m      6\u001b[0m \u001b[0;31m#K = 1/(pow(math.sqrt(2*math.pi),n)*math.sqrt(np.linalg.det(sigma)))*np.exp(-np.diag((X-Mu)*np.linalg.inv(sigma)*(X-Mu))/2)\u001b[0m\u001b[0;34m\u001b[0m\u001b[0;34m\u001b[0m\u001b[0;34m\u001b[0m\u001b[0m\n\u001b[0;32m----> 7\u001b[0;31m \u001b[0mK\u001b[0m\u001b[0;34m=\u001b[0m\u001b[0;34m(\u001b[0m\u001b[0mX\u001b[0m\u001b[0;34m-\u001b[0m\u001b[0mMu\u001b[0m\u001b[0;34m)\u001b[0m\u001b[0;34m*\u001b[0m\u001b[0mnp\u001b[0m\u001b[0;34m.\u001b[0m\u001b[0mlinalg\u001b[0m\u001b[0;34m.\u001b[0m\u001b[0minv\u001b[0m\u001b[0;34m(\u001b[0m\u001b[0msigma\u001b[0m\u001b[0;34m)\u001b[0m\u001b[0;34m*\u001b[0m\u001b[0;34m(\u001b[0m\u001b[0mX\u001b[0m\u001b[0;34m-\u001b[0m\u001b[0mMu\u001b[0m\u001b[0;34m)\u001b[0m\u001b[0;34m\u001b[0m\u001b[0;34m\u001b[0m\u001b[0m\n\u001b[0m\u001b[1;32m      8\u001b[0m \u001b[0mK\u001b[0m\u001b[0;34m\u001b[0m\u001b[0;34m\u001b[0m\u001b[0m\n\u001b[1;32m      9\u001b[0m \u001b[0;31m#K = (1/(pow(math.sqrt(2*math.pi),n)*math.sqrt(np.linalg.det(Sigma))))*np.exp(-np.diag((X-Mu)*np.linalg.inv(sigma)*(X-Mu))/2)\u001b[0m\u001b[0;34m\u001b[0m\u001b[0;34m\u001b[0m\u001b[0;34m\u001b[0m\u001b[0m\n",
            "\u001b[0;31mValueError\u001b[0m: operands could not be broadcast together with shapes (2,400) (4,12) "
          ]
        }
      ]
    }
  ]
}