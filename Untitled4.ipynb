{
  "nbformat": 4,
  "nbformat_minor": 0,
  "metadata": {
    "colab": {
      "provenance": [],
      "toc_visible": true,
      "authorship_tag": "ABX9TyOimGWi+J6Xu33UsdMbtUin",
      "include_colab_link": true
    },
    "kernelspec": {
      "name": "python3",
      "display_name": "Python 3"
    },
    "language_info": {
      "name": "python"
    }
  },
  "cells": [
    {
      "cell_type": "markdown",
      "metadata": {
        "id": "view-in-github",
        "colab_type": "text"
      },
      "source": [
        "<a href=\"https://colab.research.google.com/github/yojulab/knou_study_machinglearning/blob/main/Untitled4.ipynb\" target=\"_parent\"><img src=\"https://colab.research.google.com/assets/colab-badge.svg\" alt=\"Open In Colab\"/></a>"
      ]
    },
    {
      "cell_type": "code",
      "execution_count": 3,
      "metadata": {
        "colab": {
          "base_uri": "https://localhost:8080/"
        },
        "id": "_Fgf43sUtVfT",
        "outputId": "83ce167d-8d60-4b72-94d6-20149d805391"
      },
      "outputs": [
        {
          "output_type": "stream",
          "name": "stdout",
          "text": [
            "   Received Money  Total Spent  Remaining Money\n",
            "0          100000        50000            50000\n"
          ]
        }
      ],
      "source": [
        "import pandas as pd\n",
        "\n",
        "received_money = 100000  # 받은 금액\n",
        "apple_price = 5000  # 사과 가격\n",
        "apple_quantity = 10  # 사과 개수\n",
        "\n",
        "total_spent = apple_price * apple_quantity  # 총 지출액 계산\n",
        "remaining_money = received_money - total_spent  # 남은 금액 계산\n",
        "\n",
        "# 데이터프레임 생성\n",
        "data = {'Received Money': [received_money], 'Total Spent': [total_spent], 'Remaining Money': [remaining_money]}\n",
        "df = pd.DataFrame(data)\n",
        "\n",
        "# 데이터프레임 출력\n",
        "print(df)"
      ]
    },
    {
      "cell_type": "code",
      "source": [
        "monthly_income = 2000000  # 월급\n",
        "savings_rate = 0.1  # 저축 비율\n",
        "target_amount = 100000000  # 목표 금액\n",
        "\n",
        "current_amount = 0  # 현재 금액\n",
        "months = 0  # 경과한 개월 수\n",
        "\n",
        "while current_amount < target_amount:\n",
        "    current_amount += monthly_income * savings_rate\n",
        "    months += 1\n",
        "\n",
        "print(f\"1억이 되는데는 약 {months}개월이 걸립니다.\")\n"
      ],
      "metadata": {
        "colab": {
          "base_uri": "https://localhost:8080/"
        },
        "id": "XUCIrmMJuwO0",
        "outputId": "164209ed-11f1-4c5d-abe3-219d7832e6a1"
      },
      "execution_count": 4,
      "outputs": [
        {
          "output_type": "stream",
          "name": "stdout",
          "text": [
            "1억이 되는데는 약 500개월이 걸립니다.\n"
          ]
        }
      ]
    },
    {
      "cell_type": "code",
      "source": [
        "import random\n",
        "\n",
        "# 음식 리스트\n",
        "foods = ['토스트', '시리얼', '오믈렛', '팬케이크', '프렌치 토스트', '요거트', '과일', '샌드위치']\n",
        "\n",
        "# 무작위 음식 선택\n",
        "food_of_the_day = random.choice(foods)\n",
        "\n",
        "# 음식 추천 출력\n",
        "print(f\"오늘 아침에는 {food_of_the_day}을(를) 먹어보세요!\")\n"
      ],
      "metadata": {
        "colab": {
          "base_uri": "https://localhost:8080/"
        },
        "id": "THXozdZIyrNv",
        "outputId": "3a7baeb6-ea33-4c5b-8e1d-c5265aa0c15a"
      },
      "execution_count": 5,
      "outputs": [
        {
          "output_type": "stream",
          "name": "stdout",
          "text": [
            "오늘 아침에는 프렌치 토스트을(를) 먹어보세요!\n"
          ]
        }
      ]
    },
    {
      "cell_type": "code",
      "source": [
        "import csv\n",
        "import random\n",
        "import datetime\n",
        "\n",
        "foods = []  # 먹는 음식을 저장할 리스트\n",
        "\n",
        "# 음식 입력 받기\n",
        "while True:\n",
        "    food = input(\"먹은 음식을 입력하세요 (종료하려면 'q'를 입력하세요): \")\n",
        "\n",
        "    if food.lower() == 'q':\n",
        "        break\n",
        "\n",
        "    foods.append(food)\n",
        "\n",
        "# 입력한 음식 출력\n",
        "print(\"입력한 음식:\")\n",
        "for food in foods:\n",
        "    print(food)\n",
        "\n",
        "# 입력한 음식 데이터를 CSV 파일로 저장\n",
        "filename = 'food_data.csv'\n",
        "\n",
        "with open(filename, 'w', newline='') as file:\n",
        "    writer = csv.writer(file)\n",
        "    writer.writerow(['음식'])\n",
        "    writer.writerows(zip(foods))\n",
        "\n",
        "print(f\"음식 데이터가 '{filename}' 파일로 저장되었습니다.\")\n",
        "\n",
        "# 7시에 음식 추천\n",
        "current_time = datetime.datetime.now().time()\n",
        "if current_time.hour == 7:\n",
        "    recommended_food = random.choice(foods)\n",
        "    print(f\"오늘 아침에는 {recommended_food}을(를) 먹어보세요!\")\n",
        "else:\n",
        "    print(\"아직 음식 추천 시간이 아닙니다.\")\n"
      ],
      "metadata": {
        "colab": {
          "base_uri": "https://localhost:8080/"
        },
        "id": "JUmmoV4CzlAq",
        "outputId": "4117a86c-bd87-437a-add3-6ea7f3d81582"
      },
      "execution_count": 7,
      "outputs": [
        {
          "output_type": "stream",
          "name": "stdout",
          "text": [
            "먹은 음식을 입력하세요 (종료하려면 'q'를 입력하세요): q\n",
            "입력한 음식:\n",
            "음식 데이터가 'food_data.csv' 파일로 저장되었습니다.\n",
            "아직 음식 추천 시간이 아닙니다.\n"
          ]
        }
      ]
    }
  ]
}